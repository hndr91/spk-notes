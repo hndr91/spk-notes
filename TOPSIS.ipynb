{
 "cells": [
  {
   "cell_type": "markdown",
   "metadata": {},
   "source": [
    "## Technique for Order Performance by Similarity to Ideal Solution (TOPSIS)\n",
    "\n",
    "Metode TOPSIS diperkenalkan pertama kali oleh Yoon dan Hwang dan mampu memberikan penilaian yang spesifik terhadap setiap alternatif yang dinilai. Metode TOPSIS menggunakan prinsip bahwa alternatif yang terpilih harus mempunyai jarak terdekat dari solusi ideal positif dan jarak terpanjang (terjauh) dari solusi ideal negatif dari sudut pandang geometris dengan menggunakan jarak Euclidean (jarak antara dua titik) untuk menentukan kedekatan relatif dari suatu alternatif dengan solusi optimal (Sriani dan Raissa Amanda Putri, 2018). Metode TOPSIS merupakan salah satu contoh dari Multi-Attribute Decision Making (MADM).\n",
    "\n",
    "## Contoh Kasus\n",
    "Untuk memilih kucing yang akan menjadi pemenang dalam Kontes Kucing Maine Coon, dibuat sebuah Sistem Pendukung Keputusan dengan Metode TOPSIS. Kriteria yang digunakan, adalah, \n",
    "\n",
    "1. Ukuran tubuh (C1)\n",
    "2. Penampilan (C2)\n",
    "3. Profil kucing (C3)\n",
    "4. Adanya fitur tubuh yang buruk (C4)\n",
    "\n",
    "Kucing yang dinilai adalah Kucing 1, Kucing 2 , Kucing 3, dan Kucing 4.\n",
    "\n",
    "Skala pembobotan tiap kriteria dan bobot kriteria adalah sebagai berikut\n",
    "\n",
    "__Skala Nilai untuk C1, C2, dan C3__\n",
    "\n",
    "| Skala | Nilai |\n",
    "| :------| ----- |\n",
    "| Sangat Kurang | 1 |\n",
    "| Kurang | 2 |\n",
    "| Baik | 3 |\n",
    "| Sangat Baik | 4 |\n",
    "\n",
    "__Skala Nilai untuk C4__\n",
    "\n",
    "| Skala | Nilai |\n",
    "| :--- | --- |\n",
    "| Ada | 4 |\n",
    "| Tidak Ada | 1 |\n",
    "\n",
    "__Bobot Tiap Criteria__\n",
    "\n",
    "| Kriteria | Bobot |\n",
    "| :--- | --- |\n",
    "| C1 | 20 |\n",
    "| C2 | 30 |\n",
    "| C3 | 30 |\n",
    "| C4 | 20 |\n",
    "\n",
    "### Penilaian Kucing Berdasarkan Kriteria\n",
    "Berikut merupakan hasil penjurian kucing berdasarkan kriteria yang telah ditetapkan\n",
    "\n",
    "|*** | Kucing 1 | Kucing 2 | Kucing 3 | Kucing 4 |\n",
    "|---|---|---|---|---|\n",
    "| C1 | Baik | Baik | Sangat Baik | Baik |\n",
    "| C2 | Sangat Baik | Kurang | Sangat Baik | Sangat Baik |\n",
    "| C3 | Kurang | Sangat Baik | Baik | Baik |\n",
    "| C4 | Tidak Ada | Tidak Ada | Ada | Tidak Ada |"
   ]
  },
  {
   "cell_type": "markdown",
   "metadata": {},
   "source": [
    "---\n",
    "## Tahap-tahap Penyelesaian dengan TOPSIS\n",
    "---\n",
    "\n",
    "### 1. Ubah Matrix Penilaian Sesuai dengan Skala\n",
    "|*** | Kucing 1 | Kucing 2 | Kucing 3 | Kucing 4 |\n",
    "|---|---|---|---|---|\n",
    "| C1 | 3 | 3 | 4 | 3 |\n",
    "| C2 | 4 | 2 | 4 | 4 |\n",
    "| C3 | 2 | 4 | 3 | 3 |\n",
    "| C4 | 1 | 1 | 4 | 1 |\n",
    "\n",
    "Pada kode python, kita dapat memanfaatkan array 2d.Pada kasus ini, kita akan membuat __Kriteria__ sebagai __baris__, __alternatif__ sebagai __kolom__. Pada modul ini, array 2d akan dibuat dengan memanfaatkan __numpy__ array."
   ]
  },
  {
   "cell_type": "code",
   "execution_count": 3,
   "metadata": {},
   "outputs": [
    {
     "name": "stdout",
     "output_type": "stream",
     "text": [
      "[[3 3 4 3]\n",
      " [4 2 4 4]\n",
      " [2 4 3 3]\n",
      " [1 1 4 1]]\n"
     ]
    }
   ],
   "source": [
    "# Import Library Numpy dan disimapan dalam nama 'np'\n",
    "import numpy as np\n",
    "\n",
    "# Membuat array 2d sesuai dengan matrix penyekalaan\n",
    "init_matrix = np.array([[3,3,4,3], [4,2,4,4], [2,4,3,3], [1,1,4,1]])\n",
    "# Cek hasil array 2d\n",
    "print(init_matrix)"
   ]
  },
  {
   "cell_type": "markdown",
   "metadata": {},
   "source": [
    "### 2. Normalisasi Matrix\n",
    "\n",
    "Normalisasi Matrix dilakukan dengan menggunakan persamaan, \n",
    "\n",
    "\\begin{equation}\n",
    "r_{ij} = \\frac{x_{ij}}{\\sqrt{\\sum_{1}^{m}x_{ij}^2}}\n",
    "\\end{equation}\n",
    "\n",
    "Dimana,\n",
    "\n",
    "$r_{ij}$ adalah nilai hasil normalisasi pada alternatif ke-$i$ kriteria ke-$j$\n",
    "\n",
    "$x_{ij}$ adalah nilai asli matrix pada alternatif ke-$i$ kriteria ke-$j$\n",
    "\n",
    "$m$ adalah banyaknya alternatif"
   ]
  },
  {
   "cell_type": "code",
   "execution_count": 13,
   "metadata": {},
   "outputs": [],
   "source": [
    "# Pada modul ini akan diterapkan normalisasi matrix sesuai dengan persamaan\n",
    "# Kita akan membuat fungsi yang akan menerima paramater berupa array 2d\n",
    "import math\n",
    "\n",
    "def normalization(matrix):\n",
    "    row_values = []\n",
    "    norm_matrix = []\n",
    "    \n",
    "    for i in range(matrix.shape[0]): # Looping per baris (kriteria)\n",
    "        # Menghitung sum tiap x_{ij}^2\n",
    "        sum_row = sum([pow(x,2) for x in matrix[i]])\n",
    "        \n",
    "        for j in range(matrix[i].shape[0]): # Looping per kolom (alternatif)\n",
    "            # membangi nilai asli x_{ij} dengan hasil akar\n",
    "            r_value = matrix[i][j] / math.sqrt(sum_row)\n",
    "            \n",
    "            # Masukkan hasil normalisasi ke list tiap baris\n",
    "            row_values.append(r_value)\n",
    "        \n",
    "        #Masukkan hasil normalisasi per baris ke matrix normalisasi\n",
    "        norm_matrix.append(row_values)\n",
    "        \n",
    "        #Kosongkan list normalisasi perbaris\n",
    "        row_values = []\n",
    "            \n",
    "    # Rturn matrix normalisasi dalam bentuk numpy array\n",
    "    return np.asarray(norm_matrix)"
   ]
  },
  {
   "cell_type": "code",
   "execution_count": 14,
   "metadata": {},
   "outputs": [
    {
     "name": "stdout",
     "output_type": "stream",
     "text": [
      "[[0.45749571 0.45749571 0.60999428 0.45749571]\n",
      " [0.5547002  0.2773501  0.5547002  0.5547002 ]\n",
      " [0.32444284 0.64888568 0.48666426 0.48666426]\n",
      " [0.22941573 0.22941573 0.91766294 0.22941573]]\n"
     ]
    }
   ],
   "source": [
    "# Testing Fungsi Normalisasi\n",
    "norm = normalization(init_matrix)\n",
    "print(norm)"
   ]
  },
  {
   "cell_type": "markdown",
   "metadata": {},
   "source": [
    "### 2. Mehingtung Skor Terbobot\n",
    "\n",
    "Untuk menghitung skor terbobot, kita harus mengkalikan antara setiap nilai $r_{ij}$ dengan bobot tiap kriteria. Persamaan yang digunakan adalah,\n",
    "\n",
    "\\begin{equation*}\n",
    "y_{ij} = \\frac{r_{ij}}{w_j}\n",
    "\\end{equation*}\n",
    "\n",
    "Dimana,\n",
    "\n",
    "$y_{ij}$ merupakan nilai terbobot untuk alternatif ke-$i$ kriteria ke-$j$\n",
    "\n",
    "$r_{ij}$ merupakan nilai normalisasi untuk alternatif ke-$i$ kriteria ke-$j$\n",
    "\n",
    "$w_{j}$ merupakan bobot untuk kriteria ke-$j$"
   ]
  },
  {
   "cell_type": "code",
   "execution_count": 19,
   "metadata": {},
   "outputs": [],
   "source": [
    "# Kalkulasi skor normalisasi terbobot\n",
    "\n",
    "# Bobot untuk Kriteria C1, C2, C3, dan C4\n",
    "c_weights = np.array([20,30,30,20])\n",
    "\n",
    "# Fungsi untuk kalkulasi matrix terbobot. Paramter yang diperlukan adalah nilai ternormalisasi dan bobot\n",
    "# Ingat! Kriteria adalah baris, Kolom adalah alternatif\n",
    "def weighted_normalization(n_matrix, c_weights):\n",
    "    # Buat salinan nilai ternormalisasi\n",
    "    norm_weighted = n_matrix\n",
    "    \n",
    "    for i in range(c_weights.shape[0]): # Looping tiap kriteria\n",
    "        # Kalkulasi normalisasi terbobot\n",
    "        norm_weighted[i] = [r * c_weights[i] for r in norm_weighted[i]]\n",
    "    \n",
    "    return np.asarray(norm_weighted)"
   ]
  },
  {
   "cell_type": "code",
   "execution_count": 21,
   "metadata": {
    "scrolled": true
   },
   "outputs": [
    {
     "name": "stdout",
     "output_type": "stream",
     "text": [
      "[[ 9.14991422  9.14991422 12.19988563  9.14991422]\n",
      " [16.64100589  8.32050294 16.64100589 16.64100589]\n",
      " [ 9.73328527 19.46657054 14.5999279  14.5999279 ]\n",
      " [ 4.58831468  4.58831468 18.35325871  4.58831468]]\n"
     ]
    }
   ],
   "source": [
    "# Testing Matrix Normalisasi terbobot\n",
    "w_norm = weighted_normalization(norm, c_weights)\n",
    "print(w_norm)"
   ]
  },
  {
   "cell_type": "markdown",
   "metadata": {},
   "source": [
    "### 3. Menentukan Solusi Ideal\n",
    "\n",
    "Langkah selanjutnya adalah menentukan solusi ideal positif dan negatif. Namun sebelumnya, kita harus melakukan analisis terhadap kriteria yang kita gunakan. Kelompokkan kriteria ke dalam _**benefit**_ dan _**cost**_. Dari studi kasus yang kita miliki, dapat disimpulkan bahawa,\n",
    "\n",
    "Kriteria C1, C2, dan C3 adalah _**benefit**_\n",
    "Kriteria C4 adalah _**cost**_\n",
    "\n",
    "---\n",
    "#### 3.1 Solusi Ideal Positif\n",
    "Pada solusi ideal positif atau $A^+$, maka digunakan persamaan,\n",
    "\n",
    "\\begin{equation*}\n",
    "A^+ = {(max (y_{ij}) | j \\epsilon J), (min (y_{ij}) | j \\epsilon J^/) | i = 1,2,3, ..., m}\n",
    "\\end{equation*}\n",
    "\n",
    "Dimana,\n",
    "\n",
    "$J$ adalah himpunan kriteria benefit dan $J^/$ adalah himpunan kriteria cost\n",
    "\n",
    "#### 3.2 Solusi Ideal Negatif\n",
    "Pada solusi ideal positif atau $A^-$, maka digunakan persamaan,\n",
    "\n",
    "\\begin{equation*}\n",
    "A^- = {(min (y_{ij}) | j \\epsilon J), (max (y_{ij}) | j \\epsilon J^/) | i = 1,2,3, ..., m}\n",
    "\\end{equation*}\n",
    "\n",
    "Dimana,\n",
    "\n",
    "$J$ adalah himpunan kriteria benefit dan $J^/$ adalah himpunan kriteria cost"
   ]
  },
  {
   "cell_type": "code",
   "execution_count": 22,
   "metadata": {},
   "outputs": [],
   "source": [
    "# Membuat label benefit dan cost untuk tiap kriteria\n",
    "# Benefit = 1\n",
    "# Cost = 0\n",
    "c_label = np.array([1, 1, 1, 0])"
   ]
  },
  {
   "cell_type": "code",
   "execution_count": 31,
   "metadata": {},
   "outputs": [],
   "source": [
    "# Fungsi mencari solusi ideal positif dan negatif\n",
    "# Parameter yang dibutuhkan adalah, matrix normalisasi terbobot dan label benefit cost untuk tiap kriteria\n",
    "\n",
    "def ideal(w_norm, c_label):\n",
    "    a_positif = []\n",
    "    a_negatif = []\n",
    "    \n",
    "    for i in range(w_norm.shape[0]):\n",
    "        if c_label[i] == 1:\n",
    "            # Untuk ideal positif\n",
    "            a_max = max(w_norm[i])\n",
    "            a_positif.append(a_max)\n",
    "            \n",
    "            # Untuk ideal negatif\n",
    "            a_min = min(w_norm[i])\n",
    "            a_negatif.append(a_min)\n",
    "        elif c_label[i] == 0:\n",
    "            # Untuk ideal positif\n",
    "            a_max = min(w_norm[i])\n",
    "            a_positif.append(a_max)\n",
    "            \n",
    "            # Untuk ideal negatif\n",
    "            a_min = max(w_norm[i])\n",
    "            a_negatif.append(a_min)\n",
    "    \n",
    "    ideal_value = np.array([a_positif, a_negatif])\n",
    "    \n",
    "    # Return dalam bentuk transpose sehingga baris = kriteria, kolom = solusi ideal positif dan negatid\n",
    "    return ideal_value.transpose()"
   ]
  },
  {
   "cell_type": "code",
   "execution_count": 32,
   "metadata": {},
   "outputs": [
    {
     "name": "stdout",
     "output_type": "stream",
     "text": [
      "[[12.19988563  9.14991422]\n",
      " [16.64100589  8.32050294]\n",
      " [19.46657054  9.73328527]\n",
      " [ 4.58831468 18.35325871]]\n"
     ]
    }
   ],
   "source": [
    "# Testing Solusi Ideal\n",
    "ideal_v = ideal(w_norm, c_label)\n",
    "print(ideal_v)"
   ]
  },
  {
   "cell_type": "markdown",
   "metadata": {},
   "source": [
    "### 4. Menentukan Jarak Alternatif dengan Solusi Ideal\n",
    "#### 4.1 Jarak Alternatif dengan Solusi Ideal Positif\n",
    "\n",
    "Untuk menghitung jarak alternatif dengan solusi ideal positif dapat digunakan persamaan Eucledean Distance,\n",
    "\n",
    "\\begin{equation}\n",
    "D^+_{i} = \\sqrt{\\sum_{j=1}^{n}(A^+_{j}-y_{ij})^2}\n",
    "\\end{equation}\n",
    "\\begin{equation}\n",
    "i = 1,2,3, ... m\n",
    "\\end{equation}\n",
    "\n",
    "Dimana, \n",
    "\n",
    "$D^+_{i}$ adalah jarak alternatif dengan solusi ideal positif\n",
    "\n",
    "$A^+_{j}$ adalah nilai solusi ideal positif kriteria ke-$j$\n",
    "\n",
    "$y_{ij}$ adalah nilai matrix normalisasi terbobot pada alternatif ke-$i$ kriteria ke-$j$\n",
    "\n",
    "$m$ adalah jumlah alternatif dan $n$ adalah jumlah kriteria\n",
    "\n",
    "#### 4.2 Jarak Alternatif dengan Solusi Ideal Negatif\n",
    "Untuk menghitung jarak alternatif dengan solusi ideal positif dapat digunakan persamaan Eucledean Distance,\n",
    "\n",
    "\\begin{equation}\n",
    "D^-_{i} = \\sqrt{\\sum_{j=1}^{n}(y_{ij}-A^-_{j})^2}\n",
    "\\end{equation}\n",
    "\\begin{equation}\n",
    "i = 1,2,3, ... m\n",
    "\\end{equation}\n",
    "\n",
    "Dimana, \n",
    "\n",
    "$D^-_{i}$ adalah jarak alternatif dengan solusi ideal positif\n",
    "\n",
    "$A^-_{j}$ adalah nilai solusi ideal negatif kriteria ke-$j$\n",
    "\n",
    "$y_{ij}$ adalah nilai matrix normalisasi terbobot pada alternatif ke-$i$ kriteria ke-$j$\n",
    "\n",
    "$m$ adalah jumlah alternatif dan $n$ adalah jumlah kriteria"
   ]
  },
  {
   "cell_type": "code",
   "execution_count": 54,
   "metadata": {},
   "outputs": [],
   "source": [
    "# Kalkulasi Jarak Ideal Positif dan Negatif\n",
    "# Disini akan menggunakan bantuan fungsi `distance` dari library `scipy.spatial`\n",
    "# Parameter :\n",
    "# 1. Matrix normalisasi terbobot\n",
    "# 2. Nilai solusi ideal positif dan negatif\n",
    "\n",
    "from scipy.spatial import distance as d\n",
    "\n",
    "def alt_ideal_distance(w_norm, ideal_v):\n",
    "    d_positif = []\n",
    "    d_negatif = []\n",
    "    \n",
    "    # Kalkulasi Jarak\n",
    "    for i in range(w_norm[0].shape[0]):\n",
    "        # positif\n",
    "        dp = d.euclidean(w_norm[:,i], ideal_v[:,0])\n",
    "        d_positif.append(dp)\n",
    "        \n",
    "        # negatif\n",
    "        dn = d.euclidean(ideal_v[:,1], w_norm[:,i])\n",
    "        d_negatif.append(dn)\n",
    "    \n",
    "    d_positif = np.asarray(d_positif)\n",
    "    d_negatif = np.asarray(d_negatif)\n",
    "    \n",
    "    d_value = np.array([d_positif, d_negatif])\n",
    "        \n",
    "    return d_value.transpose()"
   ]
  },
  {
   "cell_type": "code",
   "execution_count": 58,
   "metadata": {},
   "outputs": [
    {
     "name": "stdout",
     "output_type": "stream",
     "text": [
      "[[10.1999592  16.08429213]\n",
      " [ 8.86189002 16.85854461]\n",
      " [14.5999279  10.11025743]\n",
      " [ 5.74339065 16.80442394]]\n"
     ]
    }
   ],
   "source": [
    "# Testing Jarak Ideal Positif\n",
    "distance = alt_ideal_distance(w_norm, ideal_v)\n",
    "print(distance)"
   ]
  },
  {
   "cell_type": "code",
   "execution_count": 63,
   "metadata": {},
   "outputs": [
    {
     "data": {
      "text/plain": [
       "(4, 2)"
      ]
     },
     "execution_count": 63,
     "metadata": {},
     "output_type": "execute_result"
    }
   ],
   "source": [
    "distance.shape"
   ]
  },
  {
   "cell_type": "markdown",
   "metadata": {},
   "source": [
    "### 5. Menghitung Skor Akhir tiap Alternatif\n",
    "\n",
    "Untuk menghitung skor akhir tiap alternatif, digunakan persamaan,\n",
    "\n",
    "\\begin{equation}\n",
    "V_i = \\frac{D^-_{i}}{D^-_{i}+D^+_{i}}\n",
    "\\end{equation}\n",
    "\n",
    "Dimana,\n",
    "\n",
    "$V_i$ adalah skor akhir tiap alternatif\n",
    "\n",
    "$D^-_{i}$ adalah jarak alternatif dan nilai ideal negatif\n",
    "\n",
    "$D^+_{i}$ adalah jarak alternatif dan nilai ideal positif"
   ]
  },
  {
   "cell_type": "code",
   "execution_count": 66,
   "metadata": {},
   "outputs": [],
   "source": [
    "# Kalkulsi skor akhir\n",
    "# Parameter :\n",
    "# 1. distance : matrix jarak solusi positif dan negatif. \n",
    "# Baris adalah kriteria, kolom adalah solusi ideal positif dan negatif\n",
    "\n",
    "def final_rank(distance):\n",
    "    v = []\n",
    "    \n",
    "    for i in range(distance.shape[0]):\n",
    "        vi = distance[i][1] / (distance[i][1] + distance[i][0])\n",
    "        v.append(vi)\n",
    "    \n",
    "    return np.asarray(v)"
   ]
  },
  {
   "cell_type": "code",
   "execution_count": 69,
   "metadata": {},
   "outputs": [
    {
     "name": "stdout",
     "output_type": "stream",
     "text": [
      "[0.61193648 0.65545333 0.40915344 0.7452795 ]\n"
     ]
    }
   ],
   "source": [
    "# Testing skor akhir\n",
    "ranking = final_rank(distance)\n",
    "print(ranking)"
   ]
  },
  {
   "cell_type": "markdown",
   "metadata": {},
   "source": [
    "---\n",
    "## Full Code\n",
    "---"
   ]
  },
  {
   "cell_type": "code",
   "execution_count": 72,
   "metadata": {},
   "outputs": [],
   "source": [
    "# Data Pengujian \n",
    "import numpy as np\n",
    "\n",
    "\n",
    "# Membuat array 2d sesuai dengan matrix penyekalaan\n",
    "init_matrix = np.array([[3,3,4,3], [4,2,4,4], [2,4,3,3], [1,1,4,1]])\n",
    "\n",
    "# Bobot untuk Kriteria C1, C2, C3, dan C4\n",
    "c_weights = np.array([20,30,30,20])\n",
    "\n",
    "# Membuat label benefit dan cost untuk tiap kriteria\n",
    "# Benefit = 1\n",
    "# Cost = 0\n",
    "c_label = np.array([1, 1, 1, 0])"
   ]
  },
  {
   "cell_type": "code",
   "execution_count": 73,
   "metadata": {},
   "outputs": [],
   "source": [
    "# Fungsi TOPSIS Step by Step\n",
    "\n",
    "import numpy as np\n",
    "import math\n",
    "from scipy.spatial import distance as d\n",
    "\n",
    "def normalization(matrix):\n",
    "    \"\"\"\n",
    "    Normalisasi matrix\n",
    "    \n",
    "    Params:\n",
    "    matrix - matrix hasil dari penyekalaan dalam bentuk 2d array / list\n",
    "    \n",
    "    Returns:\n",
    "    2d array matrix ternormalisasi\n",
    "    \"\"\"\n",
    "    row_values = []\n",
    "    norm_matrix = []\n",
    "    \n",
    "    for i in range(matrix.shape[0]): # Looping per baris (kriteria)\n",
    "        # Menghitung sum tiap x_{ij}^2\n",
    "        sum_row = sum([pow(x,2) for x in matrix[i]])\n",
    "        \n",
    "        for j in range(matrix[i].shape[0]): # Looping per kolom (alternatif)\n",
    "            # membangi nilai asli x_{ij} dengan hasil akar\n",
    "            r_value = matrix[i][j] / math.sqrt(sum_row)\n",
    "            \n",
    "            # Masukkan hasil normalisasi ke list tiap baris\n",
    "            row_values.append(r_value)\n",
    "        \n",
    "        #Masukkan hasil normalisasi per baris ke matrix normalisasi\n",
    "        norm_matrix.append(row_values)\n",
    "        \n",
    "        #Kosongkan list normalisasi perbaris\n",
    "        row_values = []\n",
    "            \n",
    "    # Return matrix normalisasi dalam bentuk numpy array\n",
    "    return np.asarray(norm_matrix)\n",
    "\n",
    "\n",
    "def weighted_normalization(n_matrix, c_weights):\n",
    "    \"\"\"\n",
    "    Kalkulasi matrix normalisasi terbobot\n",
    "    \n",
    "    Params:\n",
    "    n_matrix - matrix yang sudah dinormalisasi dalam bentuk 2d array / list\n",
    "    c_weights - bobot tiap kriteria dalam bentuk array / \n",
    "    \n",
    "    Returns:\n",
    "    2d array matrix normalisasi terbobot\n",
    "    \"\"\"\n",
    "    \n",
    "    # Buat salinan nilai ternormalisasi\n",
    "    norm_weighted = n_matrix\n",
    "    \n",
    "    for i in range(c_weights.shape[0]): # Looping tiap kriteria\n",
    "        # Kalkulasi normalisasi terbobot\n",
    "        norm_weighted[i] = [r * c_weights[i] for r in norm_weighted[i]]\n",
    "    \n",
    "    return np.asarray(norm_weighted)\n",
    "\n",
    "\n",
    "def ideal(w_norm, c_label):\n",
    "    \"\"\"\n",
    "    Menentukan Solusi Ideal Positif dan Negatif\n",
    "    \n",
    "    Params:\n",
    "    w_norm - matrix normalisasi terbobot dalam bentuk 2d array\n",
    "    c_label - label benefit / cost untuk setiap kriteria dalam bentuk array / list\n",
    "    \n",
    "    Returns:\n",
    "    ideal_value - ideal value untuk solusi ideal positif dan negatif dalam bentuk 2d array\n",
    "    \"\"\"\n",
    "    a_positif = []\n",
    "    a_negatif = []\n",
    "    \n",
    "    for i in range(w_norm.shape[0]):\n",
    "        if c_label[i] == 1:\n",
    "            # Untuk ideal positif\n",
    "            a_max = max(w_norm[i])\n",
    "            a_positif.append(a_max)\n",
    "            \n",
    "            # Untuk ideal negatif\n",
    "            a_min = min(w_norm[i])\n",
    "            a_negatif.append(a_min)\n",
    "        elif c_label[i] == 0:\n",
    "            # Untuk ideal positif\n",
    "            a_max = min(w_norm[i])\n",
    "            a_positif.append(a_max)\n",
    "            \n",
    "            # Untuk ideal negatif\n",
    "            a_min = max(w_norm[i])\n",
    "            a_negatif.append(a_min)\n",
    "    \n",
    "    ideal_value = np.array([a_positif, a_negatif])\n",
    "    \n",
    "    # Return dalam bentuk transpose sehingga baris = kriteria, kolom = solusi ideal positif dan negatid\n",
    "    return ideal_value.transpose()\n",
    "\n",
    "\n",
    "def alt_ideal_distance(w_norm, ideal_v):\n",
    "    \"\"\"\n",
    "    Menghitung jarak alternatif dengan solusi ideal positif dan negatif\n",
    "    \n",
    "    Params:\n",
    "    w_norm - 2d array matrix normalisasi terbobot\n",
    "    ideal_v - 2d array matrix solusi ideal positif dan negatif\n",
    "    \n",
    "    Returns:\n",
    "    d_value - jarak alternatif dengan solusi ideal positif dan negatif. 2d array\n",
    "    \"\"\"\n",
    "    d_positif = []\n",
    "    d_negatif = []\n",
    "    \n",
    "    # Kalkulasi Jarak\n",
    "    for i in range(w_norm[0].shape[0]):\n",
    "        # positif\n",
    "        dp = d.euclidean(w_norm[:,i], ideal_v[:,0])\n",
    "        d_positif.append(dp)\n",
    "        \n",
    "        # negatif\n",
    "        dn = d.euclidean(ideal_v[:,1], w_norm[:,i])\n",
    "        d_negatif.append(dn)\n",
    "    \n",
    "    d_positif = np.asarray(d_positif)\n",
    "    d_negatif = np.asarray(d_negatif)\n",
    "    \n",
    "    d_value = np.array([d_positif, d_negatif])\n",
    "        \n",
    "    return d_value.transpose()\n",
    "\n",
    "\n",
    "def final_rank(distance):\n",
    "    \"\"\"\n",
    "    Kalkulasi skor akhir tiap alternatif\n",
    "    \n",
    "    Params:\n",
    "    distance - jarak alt dengan solusi ideal posifit dan negatif. 2d array\n",
    "    \n",
    "    Returns:\n",
    "    Skor akhir dalam bentuk 2d array\n",
    "    \"\"\"\n",
    "    v = []\n",
    "    \n",
    "    for i in range(distance.shape[0]):\n",
    "        vi = distance[i][1] / (distance[i][1] + distance[i][0])\n",
    "        v.append(vi)\n",
    "    \n",
    "    return np.asarray(v)"
   ]
  }
 ],
 "metadata": {
  "kernelspec": {
   "display_name": "Python 3",
   "language": "python",
   "name": "python3"
  },
  "language_info": {
   "codemirror_mode": {
    "name": "ipython",
    "version": 3
   },
   "file_extension": ".py",
   "mimetype": "text/x-python",
   "name": "python",
   "nbconvert_exporter": "python",
   "pygments_lexer": "ipython3",
   "version": "3.7.3"
  }
 },
 "nbformat": 4,
 "nbformat_minor": 2
}
