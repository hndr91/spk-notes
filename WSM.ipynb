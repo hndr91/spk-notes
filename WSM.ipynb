{
 "cells": [
  {
   "cell_type": "code",
   "execution_count": 2,
   "metadata": {},
   "outputs": [],
   "source": [
    "import numpy as np"
   ]
  },
  {
   "cell_type": "code",
   "execution_count": 3,
   "metadata": {},
   "outputs": [],
   "source": [
    "# Bobot\n",
    "W = np.array([0.2, 0.25, 0.15, 0.4])\n",
    "\n",
    "# Nilai kriteria\n",
    "A = np.array([[15, 20, 15, 50], [20, 25, 25, 30], [25, 15, 30, 30], [10, 30, 40, 20]])"
   ]
  },
  {
   "cell_type": "code",
   "execution_count": 4,
   "metadata": {},
   "outputs": [],
   "source": [
    "# Fungsi untuk menghitung nilai WSM\n",
    "def calculate_wsm(weight, alternatives):\n",
    "    number_of_alternatives = alternatives.shape[0]\n",
    "    wsm_value = []\n",
    "    \n",
    "    for i in range(alternatives.shape[0]):\n",
    "        tmp_a = np.sum(alternatives[i]*weight)\n",
    "        wsm_value.append(tmp_a)\n",
    "    \n",
    "    print(wsm_value)"
   ]
  },
  {
   "cell_type": "code",
   "execution_count": 5,
   "metadata": {},
   "outputs": [
    {
     "name": "stdout",
     "output_type": "stream",
     "text": [
      "[30.25, 26.0, 25.25, 23.5]\n"
     ]
    }
   ],
   "source": [
    "calculate_wsm(W,A)"
   ]
  },
  {
   "cell_type": "code",
   "execution_count": null,
   "metadata": {},
   "outputs": [],
   "source": []
  }
 ],
 "metadata": {
  "kernelspec": {
   "display_name": "Python 3",
   "language": "python",
   "name": "python3"
  },
  "language_info": {
   "codemirror_mode": {
    "name": "ipython",
    "version": 3
   },
   "file_extension": ".py",
   "mimetype": "text/x-python",
   "name": "python",
   "nbconvert_exporter": "python",
   "pygments_lexer": "ipython3",
   "version": "3.7.3"
  }
 },
 "nbformat": 4,
 "nbformat_minor": 2
}
